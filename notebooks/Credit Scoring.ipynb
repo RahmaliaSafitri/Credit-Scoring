{
 "cells": [
  {
   "cell_type": "markdown",
   "metadata": {},
   "source": [
    "# Load Dataset"
   ]
  },
  {
   "cell_type": "markdown",
   "metadata": {},
   "source": [
    "1. Load Data\n",
    "2. Check your data: data types, missing data\n",
    "3. Check simple statistic from your data\n",
    "4. Let's think what tools that we will try. Data Preprocessing Pla, Model Plan"
   ]
  },
  {
   "cell_type": "code",
   "execution_count": 1,
   "metadata": {},
   "outputs": [],
   "source": [
    "import warnings\n",
    "warnings.filterwarnings('ignore')"
   ]
  },
  {
   "cell_type": "code",
   "execution_count": 2,
   "metadata": {},
   "outputs": [],
   "source": [
    "import numpy as np\n",
    "import pandas as pd  # import pandas for data manipulation\n",
    "pd.options.display.max_columns = None  # set options max_columns to None to display all columns\n",
    "\n",
    "data = pd.read_csv('credit_risk_dataset.csv')"
   ]
  },
  {
   "cell_type": "code",
   "execution_count": 3,
   "metadata": {},
   "outputs": [
    {
     "data": {
      "text/html": [
       "<div>\n",
       "<style scoped>\n",
       "    .dataframe tbody tr th:only-of-type {\n",
       "        vertical-align: middle;\n",
       "    }\n",
       "\n",
       "    .dataframe tbody tr th {\n",
       "        vertical-align: top;\n",
       "    }\n",
       "\n",
       "    .dataframe thead th {\n",
       "        text-align: right;\n",
       "    }\n",
       "</style>\n",
       "<table border=\"1\" class=\"dataframe\">\n",
       "  <thead>\n",
       "    <tr style=\"text-align: right;\">\n",
       "      <th></th>\n",
       "      <th>person_age</th>\n",
       "      <th>person_income</th>\n",
       "      <th>person_home_ownership</th>\n",
       "      <th>person_emp_length</th>\n",
       "      <th>loan_intent</th>\n",
       "      <th>loan_grade</th>\n",
       "      <th>loan_amnt</th>\n",
       "      <th>loan_int_rate</th>\n",
       "      <th>loan_status</th>\n",
       "      <th>loan_percent_income</th>\n",
       "      <th>cb_person_default_on_file</th>\n",
       "      <th>cb_person_cred_hist_length</th>\n",
       "    </tr>\n",
       "  </thead>\n",
       "  <tbody>\n",
       "    <tr>\n",
       "      <th>0</th>\n",
       "      <td>22</td>\n",
       "      <td>59000</td>\n",
       "      <td>RENT</td>\n",
       "      <td>123.0</td>\n",
       "      <td>PERSONAL</td>\n",
       "      <td>D</td>\n",
       "      <td>35000</td>\n",
       "      <td>16.02</td>\n",
       "      <td>1</td>\n",
       "      <td>0.59</td>\n",
       "      <td>Y</td>\n",
       "      <td>3</td>\n",
       "    </tr>\n",
       "    <tr>\n",
       "      <th>1</th>\n",
       "      <td>21</td>\n",
       "      <td>9600</td>\n",
       "      <td>OWN</td>\n",
       "      <td>5.0</td>\n",
       "      <td>EDUCATION</td>\n",
       "      <td>B</td>\n",
       "      <td>1000</td>\n",
       "      <td>11.14</td>\n",
       "      <td>0</td>\n",
       "      <td>0.10</td>\n",
       "      <td>N</td>\n",
       "      <td>2</td>\n",
       "    </tr>\n",
       "    <tr>\n",
       "      <th>2</th>\n",
       "      <td>25</td>\n",
       "      <td>9600</td>\n",
       "      <td>MORTGAGE</td>\n",
       "      <td>1.0</td>\n",
       "      <td>MEDICAL</td>\n",
       "      <td>C</td>\n",
       "      <td>5500</td>\n",
       "      <td>12.87</td>\n",
       "      <td>1</td>\n",
       "      <td>0.57</td>\n",
       "      <td>N</td>\n",
       "      <td>3</td>\n",
       "    </tr>\n",
       "    <tr>\n",
       "      <th>3</th>\n",
       "      <td>23</td>\n",
       "      <td>65500</td>\n",
       "      <td>RENT</td>\n",
       "      <td>4.0</td>\n",
       "      <td>MEDICAL</td>\n",
       "      <td>C</td>\n",
       "      <td>35000</td>\n",
       "      <td>15.23</td>\n",
       "      <td>1</td>\n",
       "      <td>0.53</td>\n",
       "      <td>N</td>\n",
       "      <td>2</td>\n",
       "    </tr>\n",
       "    <tr>\n",
       "      <th>4</th>\n",
       "      <td>24</td>\n",
       "      <td>54400</td>\n",
       "      <td>RENT</td>\n",
       "      <td>8.0</td>\n",
       "      <td>MEDICAL</td>\n",
       "      <td>C</td>\n",
       "      <td>35000</td>\n",
       "      <td>14.27</td>\n",
       "      <td>1</td>\n",
       "      <td>0.55</td>\n",
       "      <td>Y</td>\n",
       "      <td>4</td>\n",
       "    </tr>\n",
       "  </tbody>\n",
       "</table>\n",
       "</div>"
      ],
      "text/plain": [
       "   person_age  person_income person_home_ownership  person_emp_length  \\\n",
       "0          22          59000                  RENT              123.0   \n",
       "1          21           9600                   OWN                5.0   \n",
       "2          25           9600              MORTGAGE                1.0   \n",
       "3          23          65500                  RENT                4.0   \n",
       "4          24          54400                  RENT                8.0   \n",
       "\n",
       "  loan_intent loan_grade  loan_amnt  loan_int_rate  loan_status  \\\n",
       "0    PERSONAL          D      35000          16.02            1   \n",
       "1   EDUCATION          B       1000          11.14            0   \n",
       "2     MEDICAL          C       5500          12.87            1   \n",
       "3     MEDICAL          C      35000          15.23            1   \n",
       "4     MEDICAL          C      35000          14.27            1   \n",
       "\n",
       "   loan_percent_income cb_person_default_on_file  cb_person_cred_hist_length  \n",
       "0                 0.59                         Y                           3  \n",
       "1                 0.10                         N                           2  \n",
       "2                 0.57                         N                           3  \n",
       "3                 0.53                         N                           2  \n",
       "4                 0.55                         Y                           4  "
      ]
     },
     "execution_count": 3,
     "metadata": {},
     "output_type": "execute_result"
    }
   ],
   "source": [
    "data.head()"
   ]
  },
  {
   "cell_type": "code",
   "execution_count": 4,
   "metadata": {},
   "outputs": [
    {
     "data": {
      "text/plain": [
       "(32581, 12)"
      ]
     },
     "execution_count": 4,
     "metadata": {},
     "output_type": "execute_result"
    }
   ],
   "source": [
    "data.shape"
   ]
  },
  {
   "cell_type": "code",
   "execution_count": 5,
   "metadata": {},
   "outputs": [
    {
     "data": {
      "text/plain": [
       "person_age                      int64\n",
       "person_income                   int64\n",
       "person_home_ownership          object\n",
       "person_emp_length             float64\n",
       "loan_intent                    object\n",
       "loan_grade                     object\n",
       "loan_amnt                       int64\n",
       "loan_int_rate                 float64\n",
       "loan_status                     int64\n",
       "loan_percent_income           float64\n",
       "cb_person_default_on_file      object\n",
       "cb_person_cred_hist_length      int64\n",
       "dtype: object"
      ]
     },
     "execution_count": 5,
     "metadata": {},
     "output_type": "execute_result"
    }
   ],
   "source": [
    "data.dtypes"
   ]
  },
  {
   "cell_type": "markdown",
   "metadata": {},
   "source": [
    "### Simple Statistics"
   ]
  },
  {
   "cell_type": "code",
   "execution_count": 6,
   "metadata": {},
   "outputs": [
    {
     "data": {
      "text/html": [
       "<div>\n",
       "<style scoped>\n",
       "    .dataframe tbody tr th:only-of-type {\n",
       "        vertical-align: middle;\n",
       "    }\n",
       "\n",
       "    .dataframe tbody tr th {\n",
       "        vertical-align: top;\n",
       "    }\n",
       "\n",
       "    .dataframe thead th {\n",
       "        text-align: right;\n",
       "    }\n",
       "</style>\n",
       "<table border=\"1\" class=\"dataframe\">\n",
       "  <thead>\n",
       "    <tr style=\"text-align: right;\">\n",
       "      <th></th>\n",
       "      <th>count</th>\n",
       "      <th>mean</th>\n",
       "      <th>std</th>\n",
       "      <th>min</th>\n",
       "      <th>25%</th>\n",
       "      <th>50%</th>\n",
       "      <th>75%</th>\n",
       "      <th>max</th>\n",
       "    </tr>\n",
       "  </thead>\n",
       "  <tbody>\n",
       "    <tr>\n",
       "      <th>person_age</th>\n",
       "      <td>32581.0</td>\n",
       "      <td>27.734600</td>\n",
       "      <td>6.348078</td>\n",
       "      <td>20.00</td>\n",
       "      <td>23.00</td>\n",
       "      <td>26.00</td>\n",
       "      <td>30.00</td>\n",
       "      <td>144.00</td>\n",
       "    </tr>\n",
       "    <tr>\n",
       "      <th>person_income</th>\n",
       "      <td>32581.0</td>\n",
       "      <td>66074.848470</td>\n",
       "      <td>61983.119168</td>\n",
       "      <td>4000.00</td>\n",
       "      <td>38500.00</td>\n",
       "      <td>55000.00</td>\n",
       "      <td>79200.00</td>\n",
       "      <td>6000000.00</td>\n",
       "    </tr>\n",
       "    <tr>\n",
       "      <th>person_emp_length</th>\n",
       "      <td>31686.0</td>\n",
       "      <td>4.789686</td>\n",
       "      <td>4.142630</td>\n",
       "      <td>0.00</td>\n",
       "      <td>2.00</td>\n",
       "      <td>4.00</td>\n",
       "      <td>7.00</td>\n",
       "      <td>123.00</td>\n",
       "    </tr>\n",
       "    <tr>\n",
       "      <th>loan_amnt</th>\n",
       "      <td>32581.0</td>\n",
       "      <td>9589.371106</td>\n",
       "      <td>6322.086646</td>\n",
       "      <td>500.00</td>\n",
       "      <td>5000.00</td>\n",
       "      <td>8000.00</td>\n",
       "      <td>12200.00</td>\n",
       "      <td>35000.00</td>\n",
       "    </tr>\n",
       "    <tr>\n",
       "      <th>loan_int_rate</th>\n",
       "      <td>29465.0</td>\n",
       "      <td>11.011695</td>\n",
       "      <td>3.240459</td>\n",
       "      <td>5.42</td>\n",
       "      <td>7.90</td>\n",
       "      <td>10.99</td>\n",
       "      <td>13.47</td>\n",
       "      <td>23.22</td>\n",
       "    </tr>\n",
       "    <tr>\n",
       "      <th>loan_status</th>\n",
       "      <td>32581.0</td>\n",
       "      <td>0.218164</td>\n",
       "      <td>0.413006</td>\n",
       "      <td>0.00</td>\n",
       "      <td>0.00</td>\n",
       "      <td>0.00</td>\n",
       "      <td>0.00</td>\n",
       "      <td>1.00</td>\n",
       "    </tr>\n",
       "    <tr>\n",
       "      <th>loan_percent_income</th>\n",
       "      <td>32581.0</td>\n",
       "      <td>0.170203</td>\n",
       "      <td>0.106782</td>\n",
       "      <td>0.00</td>\n",
       "      <td>0.09</td>\n",
       "      <td>0.15</td>\n",
       "      <td>0.23</td>\n",
       "      <td>0.83</td>\n",
       "    </tr>\n",
       "    <tr>\n",
       "      <th>cb_person_cred_hist_length</th>\n",
       "      <td>32581.0</td>\n",
       "      <td>5.804211</td>\n",
       "      <td>4.055001</td>\n",
       "      <td>2.00</td>\n",
       "      <td>3.00</td>\n",
       "      <td>4.00</td>\n",
       "      <td>8.00</td>\n",
       "      <td>30.00</td>\n",
       "    </tr>\n",
       "  </tbody>\n",
       "</table>\n",
       "</div>"
      ],
      "text/plain": [
       "                              count          mean           std      min  \\\n",
       "person_age                  32581.0     27.734600      6.348078    20.00   \n",
       "person_income               32581.0  66074.848470  61983.119168  4000.00   \n",
       "person_emp_length           31686.0      4.789686      4.142630     0.00   \n",
       "loan_amnt                   32581.0   9589.371106   6322.086646   500.00   \n",
       "loan_int_rate               29465.0     11.011695      3.240459     5.42   \n",
       "loan_status                 32581.0      0.218164      0.413006     0.00   \n",
       "loan_percent_income         32581.0      0.170203      0.106782     0.00   \n",
       "cb_person_cred_hist_length  32581.0      5.804211      4.055001     2.00   \n",
       "\n",
       "                                 25%       50%       75%         max  \n",
       "person_age                     23.00     26.00     30.00      144.00  \n",
       "person_income               38500.00  55000.00  79200.00  6000000.00  \n",
       "person_emp_length               2.00      4.00      7.00      123.00  \n",
       "loan_amnt                    5000.00   8000.00  12200.00    35000.00  \n",
       "loan_int_rate                   7.90     10.99     13.47       23.22  \n",
       "loan_status                     0.00      0.00      0.00        1.00  \n",
       "loan_percent_income             0.09      0.15      0.23        0.83  \n",
       "cb_person_cred_hist_length      3.00      4.00      8.00       30.00  "
      ]
     },
     "execution_count": 6,
     "metadata": {},
     "output_type": "execute_result"
    }
   ],
   "source": [
    "data.describe(include='number').T"
   ]
  },
  {
   "cell_type": "code",
   "execution_count": 7,
   "metadata": {},
   "outputs": [
    {
     "data": {
      "text/html": [
       "<div>\n",
       "<style scoped>\n",
       "    .dataframe tbody tr th:only-of-type {\n",
       "        vertical-align: middle;\n",
       "    }\n",
       "\n",
       "    .dataframe tbody tr th {\n",
       "        vertical-align: top;\n",
       "    }\n",
       "\n",
       "    .dataframe thead th {\n",
       "        text-align: right;\n",
       "    }\n",
       "</style>\n",
       "<table border=\"1\" class=\"dataframe\">\n",
       "  <thead>\n",
       "    <tr style=\"text-align: right;\">\n",
       "      <th></th>\n",
       "      <th>count</th>\n",
       "      <th>unique</th>\n",
       "      <th>top</th>\n",
       "      <th>freq</th>\n",
       "    </tr>\n",
       "  </thead>\n",
       "  <tbody>\n",
       "    <tr>\n",
       "      <th>person_home_ownership</th>\n",
       "      <td>32581</td>\n",
       "      <td>4</td>\n",
       "      <td>RENT</td>\n",
       "      <td>16446</td>\n",
       "    </tr>\n",
       "    <tr>\n",
       "      <th>loan_intent</th>\n",
       "      <td>32581</td>\n",
       "      <td>6</td>\n",
       "      <td>EDUCATION</td>\n",
       "      <td>6453</td>\n",
       "    </tr>\n",
       "    <tr>\n",
       "      <th>loan_grade</th>\n",
       "      <td>32581</td>\n",
       "      <td>7</td>\n",
       "      <td>A</td>\n",
       "      <td>10777</td>\n",
       "    </tr>\n",
       "    <tr>\n",
       "      <th>cb_person_default_on_file</th>\n",
       "      <td>32581</td>\n",
       "      <td>2</td>\n",
       "      <td>N</td>\n",
       "      <td>26836</td>\n",
       "    </tr>\n",
       "  </tbody>\n",
       "</table>\n",
       "</div>"
      ],
      "text/plain": [
       "                           count unique        top   freq\n",
       "person_home_ownership      32581      4       RENT  16446\n",
       "loan_intent                32581      6  EDUCATION   6453\n",
       "loan_grade                 32581      7          A  10777\n",
       "cb_person_default_on_file  32581      2          N  26836"
      ]
     },
     "execution_count": 7,
     "metadata": {},
     "output_type": "execute_result"
    }
   ],
   "source": [
    "data.describe(include='object').T"
   ]
  },
  {
   "cell_type": "code",
   "execution_count": 8,
   "metadata": {},
   "outputs": [
    {
     "data": {
      "text/plain": [
       "0    25473\n",
       "1     7108\n",
       "Name: loan_status, dtype: int64"
      ]
     },
     "execution_count": 8,
     "metadata": {},
     "output_type": "execute_result"
    }
   ],
   "source": [
    "data['loan_status'].value_counts()"
   ]
  },
  {
   "cell_type": "markdown",
   "metadata": {},
   "source": [
    "### Exploratory Data"
   ]
  },
  {
   "cell_type": "code",
   "execution_count": 9,
   "metadata": {},
   "outputs": [
    {
     "name": "stdout",
     "output_type": "stream",
     "text": [
      "Total numerical columns : 7\n",
      "Total categorical columns : 4\n"
     ]
    }
   ],
   "source": [
    "num_columns = data.drop(columns='loan_status').select_dtypes(include='number').columns.tolist()\n",
    "cat_columns = data.select_dtypes(exclude=['number']).columns.tolist()\n",
    "\n",
    "print(\"Total numerical columns :\", len(num_columns))\n",
    "print(\"Total categorical columns :\", len(cat_columns))"
   ]
  },
  {
   "cell_type": "code",
   "execution_count": 10,
   "metadata": {},
   "outputs": [],
   "source": [
    "num_idx = [data.columns.get_loc(c) for c in num_columns]\n",
    "cat_idx = [data.columns.get_loc(c) for c in cat_columns]"
   ]
  },
  {
   "cell_type": "code",
   "execution_count": 11,
   "metadata": {},
   "outputs": [
    {
     "data": {
      "text/plain": [
       "Index(['person_age', 'person_income', 'person_emp_length', 'loan_amnt',\n",
       "       'loan_int_rate', 'loan_percent_income', 'cb_person_cred_hist_length'],\n",
       "      dtype='object')"
      ]
     },
     "execution_count": 11,
     "metadata": {},
     "output_type": "execute_result"
    }
   ],
   "source": [
    "data.columns[num_idx]"
   ]
  },
  {
   "cell_type": "code",
   "execution_count": 12,
   "metadata": {},
   "outputs": [
    {
     "data": {
      "text/plain": [
       "Index(['person_home_ownership', 'loan_intent', 'loan_grade',\n",
       "       'cb_person_default_on_file'],\n",
       "      dtype='object')"
      ]
     },
     "execution_count": 12,
     "metadata": {},
     "output_type": "execute_result"
    }
   ],
   "source": [
    "data.columns[cat_idx]"
   ]
  },
  {
   "cell_type": "code",
   "execution_count": 13,
   "metadata": {},
   "outputs": [
    {
     "name": "stdout",
     "output_type": "stream",
     "text": [
      "person_home_ownership: ['RENT', 'OWN', 'MORTGAGE', 'OTHER']\n",
      "loan_intent         : ['PERSONAL', 'EDUCATION', 'MEDICAL', 'VENTURE', 'HOMEIMPROVEMENT', 'DEBTCONSOLIDATION']\n",
      "loan_grade          : ['D', 'B', 'C', 'A', 'E', 'F', 'G']\n",
      "cb_person_default_on_file: ['Y', 'N']\n"
     ]
    }
   ],
   "source": [
    "for col in cat_columns:\n",
    "    print(f\"{col:<20}: {data[col].unique().tolist()}\")"
   ]
  },
  {
   "cell_type": "markdown",
   "metadata": {},
   "source": [
    "## Correlated Features"
   ]
  },
  {
   "cell_type": "code",
   "execution_count": 14,
   "metadata": {},
   "outputs": [],
   "source": [
    "import matplotlib.pyplot as plt\n",
    "import seaborn as sns\n",
    "\n",
    "\n",
    "def plot_correlation(data):\n",
    "    corr = data.corr()\n",
    "    mask = np.triu(np.ones_like(corr, dtype=bool))\n",
    "\n",
    "    fig = plt.figure(figsize=(10, 10))\n",
    "\n",
    "    ax = sns.heatmap(\n",
    "        corr, \n",
    "        mask=mask,\n",
    "        vmin=-1, vmax=1, center=0,\n",
    "        cmap='coolwarm',\n",
    "        square=True,\n",
    "        linewidths=0.3,\n",
    "        annot=True,\n",
    "        fmt=\".2f\",\n",
    "        annot_kws={\"size\": 8},\n",
    "        cbar_kws={\"shrink\": .5}\n",
    "    )\n",
    "\n",
    "    ax.set_xticklabels(\n",
    "        ax.get_xticklabels(),\n",
    "        rotation=45,\n",
    "        horizontalalignment='right'\n",
    "    )\n",
    "\n",
    "    ax.set_title(\"Correlation\", size=14)\n",
    "\n",
    "    plt.show()"
   ]
  },
  {
   "cell_type": "code",
   "execution_count": 15,
   "metadata": {},
   "outputs": [
    {
     "data": {
      "image/png": "[encoded data removed]",
      "text/plain": [
       "<Figure size 720x720 with 2 Axes>"
      ]
     },
     "metadata": {
      "needs_background": "light"
     },
     "output_type": "display_data"
    }
   ],
   "source": [
    "plot_correlation(data[num_columns])"
   ]
  },
  {
   "cell_type": "markdown",
   "metadata": {},
   "source": [
    "### Check duplicate data "
   ]
  },
  {
   "cell_type": "code",
   "execution_count": 16,
   "metadata": {},
   "outputs": [
    {
     "data": {
      "text/html": [
       "<div>\n",
       "<style scoped>\n",
       "    .dataframe tbody tr th:only-of-type {\n",
       "        vertical-align: middle;\n",
       "    }\n",
       "\n",
       "    .dataframe tbody tr th {\n",
       "        vertical-align: top;\n",
       "    }\n",
       "\n",
       "    .dataframe thead th {\n",
       "        text-align: right;\n",
       "    }\n",
       "</style>\n",
       "<table border=\"1\" class=\"dataframe\">\n",
       "  <thead>\n",
       "    <tr style=\"text-align: right;\">\n",
       "      <th></th>\n",
       "      <th>person_age</th>\n",
       "      <th>person_income</th>\n",
       "      <th>person_home_ownership</th>\n",
       "      <th>person_emp_length</th>\n",
       "      <th>loan_intent</th>\n",
       "      <th>loan_grade</th>\n",
       "      <th>loan_amnt</th>\n",
       "      <th>loan_int_rate</th>\n",
       "      <th>loan_status</th>\n",
       "      <th>loan_percent_income</th>\n",
       "      <th>cb_person_default_on_file</th>\n",
       "      <th>cb_person_cred_hist_length</th>\n",
       "    </tr>\n",
       "  </thead>\n",
       "  <tbody>\n",
       "    <tr>\n",
       "      <th>15975</th>\n",
       "      <td>23</td>\n",
       "      <td>42000</td>\n",
       "      <td>RENT</td>\n",
       "      <td>5.0</td>\n",
       "      <td>VENTURE</td>\n",
       "      <td>B</td>\n",
       "      <td>6000</td>\n",
       "      <td>9.99</td>\n",
       "      <td>0</td>\n",
       "      <td>0.14</td>\n",
       "      <td>N</td>\n",
       "      <td>4</td>\n",
       "    </tr>\n",
       "    <tr>\n",
       "      <th>15989</th>\n",
       "      <td>23</td>\n",
       "      <td>90000</td>\n",
       "      <td>MORTGAGE</td>\n",
       "      <td>7.0</td>\n",
       "      <td>EDUCATION</td>\n",
       "      <td>B</td>\n",
       "      <td>8000</td>\n",
       "      <td>10.36</td>\n",
       "      <td>0</td>\n",
       "      <td>0.09</td>\n",
       "      <td>N</td>\n",
       "      <td>3</td>\n",
       "    </tr>\n",
       "    <tr>\n",
       "      <th>15995</th>\n",
       "      <td>24</td>\n",
       "      <td>48000</td>\n",
       "      <td>MORTGAGE</td>\n",
       "      <td>4.0</td>\n",
       "      <td>MEDICAL</td>\n",
       "      <td>A</td>\n",
       "      <td>4000</td>\n",
       "      <td>5.42</td>\n",
       "      <td>0</td>\n",
       "      <td>0.08</td>\n",
       "      <td>N</td>\n",
       "      <td>4</td>\n",
       "    </tr>\n",
       "    <tr>\n",
       "      <th>16025</th>\n",
       "      <td>24</td>\n",
       "      <td>10000</td>\n",
       "      <td>RENT</td>\n",
       "      <td>8.0</td>\n",
       "      <td>PERSONAL</td>\n",
       "      <td>A</td>\n",
       "      <td>3000</td>\n",
       "      <td>7.90</td>\n",
       "      <td>1</td>\n",
       "      <td>0.30</td>\n",
       "      <td>N</td>\n",
       "      <td>3</td>\n",
       "    </tr>\n",
       "    <tr>\n",
       "      <th>16028</th>\n",
       "      <td>23</td>\n",
       "      <td>100000</td>\n",
       "      <td>MORTGAGE</td>\n",
       "      <td>7.0</td>\n",
       "      <td>EDUCATION</td>\n",
       "      <td>A</td>\n",
       "      <td>15000</td>\n",
       "      <td>7.88</td>\n",
       "      <td>0</td>\n",
       "      <td>0.15</td>\n",
       "      <td>N</td>\n",
       "      <td>4</td>\n",
       "    </tr>\n",
       "    <tr>\n",
       "      <th>...</th>\n",
       "      <td>...</td>\n",
       "      <td>...</td>\n",
       "      <td>...</td>\n",
       "      <td>...</td>\n",
       "      <td>...</td>\n",
       "      <td>...</td>\n",
       "      <td>...</td>\n",
       "      <td>...</td>\n",
       "      <td>...</td>\n",
       "      <td>...</td>\n",
       "      <td>...</td>\n",
       "      <td>...</td>\n",
       "    </tr>\n",
       "    <tr>\n",
       "      <th>32010</th>\n",
       "      <td>42</td>\n",
       "      <td>39996</td>\n",
       "      <td>MORTGAGE</td>\n",
       "      <td>2.0</td>\n",
       "      <td>HOMEIMPROVEMENT</td>\n",
       "      <td>A</td>\n",
       "      <td>2500</td>\n",
       "      <td>5.42</td>\n",
       "      <td>0</td>\n",
       "      <td>0.06</td>\n",
       "      <td>N</td>\n",
       "      <td>12</td>\n",
       "    </tr>\n",
       "    <tr>\n",
       "      <th>32047</th>\n",
       "      <td>36</td>\n",
       "      <td>250000</td>\n",
       "      <td>RENT</td>\n",
       "      <td>2.0</td>\n",
       "      <td>DEBTCONSOLIDATION</td>\n",
       "      <td>A</td>\n",
       "      <td>20000</td>\n",
       "      <td>7.88</td>\n",
       "      <td>0</td>\n",
       "      <td>0.08</td>\n",
       "      <td>N</td>\n",
       "      <td>17</td>\n",
       "    </tr>\n",
       "    <tr>\n",
       "      <th>32172</th>\n",
       "      <td>49</td>\n",
       "      <td>120000</td>\n",
       "      <td>MORTGAGE</td>\n",
       "      <td>12.0</td>\n",
       "      <td>MEDICAL</td>\n",
       "      <td>B</td>\n",
       "      <td>12000</td>\n",
       "      <td>10.99</td>\n",
       "      <td>0</td>\n",
       "      <td>0.10</td>\n",
       "      <td>N</td>\n",
       "      <td>12</td>\n",
       "    </tr>\n",
       "    <tr>\n",
       "      <th>32259</th>\n",
       "      <td>39</td>\n",
       "      <td>40000</td>\n",
       "      <td>OWN</td>\n",
       "      <td>4.0</td>\n",
       "      <td>VENTURE</td>\n",
       "      <td>B</td>\n",
       "      <td>1000</td>\n",
       "      <td>10.37</td>\n",
       "      <td>0</td>\n",
       "      <td>0.03</td>\n",
       "      <td>N</td>\n",
       "      <td>16</td>\n",
       "    </tr>\n",
       "    <tr>\n",
       "      <th>32279</th>\n",
       "      <td>43</td>\n",
       "      <td>11340</td>\n",
       "      <td>RENT</td>\n",
       "      <td>4.0</td>\n",
       "      <td>EDUCATION</td>\n",
       "      <td>C</td>\n",
       "      <td>1950</td>\n",
       "      <td>NaN</td>\n",
       "      <td>1</td>\n",
       "      <td>0.17</td>\n",
       "      <td>N</td>\n",
       "      <td>11</td>\n",
       "    </tr>\n",
       "  </tbody>\n",
       "</table>\n",
       "<p>165 rows × 12 columns</p>\n",
       "</div>"
      ],
      "text/plain": [
       "       person_age  person_income person_home_ownership  person_emp_length  \\\n",
       "15975          23          42000                  RENT                5.0   \n",
       "15989          23          90000              MORTGAGE                7.0   \n",
       "15995          24          48000              MORTGAGE                4.0   \n",
       "16025          24          10000                  RENT                8.0   \n",
       "16028          23         100000              MORTGAGE                7.0   \n",
       "...           ...            ...                   ...                ...   \n",
       "32010          42          39996              MORTGAGE                2.0   \n",
       "32047          36         250000                  RENT                2.0   \n",
       "32172          49         120000              MORTGAGE               12.0   \n",
       "32259          39          40000                   OWN                4.0   \n",
       "32279          43          11340                  RENT                4.0   \n",
       "\n",
       "             loan_intent loan_grade  loan_amnt  loan_int_rate  loan_status  \\\n",
       "15975            VENTURE          B       6000           9.99            0   \n",
       "15989          EDUCATION          B       8000          10.36            0   \n",
       "15995            MEDICAL          A       4000           5.42            0   \n",
       "16025           PERSONAL          A       3000           7.90            1   \n",
       "16028          EDUCATION          A      15000           7.88            0   \n",
       "...                  ...        ...        ...            ...          ...   \n",
       "32010    HOMEIMPROVEMENT          A       2500           5.42            0   \n",
       "32047  DEBTCONSOLIDATION          A      20000           7.88            0   \n",
       "32172            MEDICAL          B      12000          10.99            0   \n",
       "32259            VENTURE          B       1000          10.37            0   \n",
       "32279          EDUCATION          C       1950            NaN            1   \n",
       "\n",
       "       loan_percent_income cb_person_default_on_file  \\\n",
       "15975                 0.14                         N   \n",
       "15989                 0.09                         N   \n",
       "15995                 0.08                         N   \n",
       "16025                 0.30                         N   \n",
       "16028                 0.15                         N   \n",
       "...                    ...                       ...   \n",
       "32010                 0.06                         N   \n",
       "32047                 0.08                         N   \n",
       "32172                 0.10                         N   \n",
       "32259                 0.03                         N   \n",
       "32279                 0.17                         N   \n",
       "\n",
       "       cb_person_cred_hist_length  \n",
       "15975                           4  \n",
       "15989                           3  \n",
       "15995                           4  \n",
       "16025                           3  \n",
       "16028                           4  \n",
       "...                           ...  \n",
       "32010                          12  \n",
       "32047                          17  \n",
       "32172                          12  \n",
       "32259                          16  \n",
       "32279                          11  \n",
       "\n",
       "[165 rows x 12 columns]"
      ]
     },
     "execution_count": 16,
     "metadata": {},
     "output_type": "execute_result"
    }
   ],
   "source": [
    "data[data.duplicated()]"
   ]
  },
  {
   "cell_type": "markdown",
   "metadata": {},
   "source": [
    "### Check missing value"
   ]
  },
  {
   "cell_type": "code",
   "execution_count": 17,
   "metadata": {
    "scrolled": true
   },
   "outputs": [
    {
     "data": {
      "text/plain": [
       "person_age                       0\n",
       "person_income                    0\n",
       "person_home_ownership            0\n",
       "person_emp_length              895\n",
       "loan_intent                      0\n",
       "loan_grade                       0\n",
       "loan_amnt                        0\n",
       "loan_int_rate                 3116\n",
       "loan_status                      0\n",
       "loan_percent_income              0\n",
       "cb_person_default_on_file        0\n",
       "cb_person_cred_hist_length       0\n",
       "dtype: int64"
      ]
     },
     "execution_count": 17,
     "metadata": {},
     "output_type": "execute_result"
    }
   ],
   "source": [
    "data.isnull().sum()"
   ]
  },
  {
   "cell_type": "markdown",
   "metadata": {},
   "source": [
    "### Data Preprocess"
   ]
  },
  {
   "cell_type": "markdown",
   "metadata": {},
   "source": [
    "distinguish numerical and categorical variable since it will have a different approach of preprocessing"
   ]
  },
  {
   "cell_type": "code",
   "execution_count": 18,
   "metadata": {},
   "outputs": [],
   "source": [
    "# Drop duplicate rows\n",
    "data.drop_duplicates(keep=\"first\", inplace=True)"
   ]
  },
  {
   "cell_type": "code",
   "execution_count": 19,
   "metadata": {},
   "outputs": [],
   "source": [
    "# Weird data\n",
    "outlier1 = data[data['person_age'] > 100].index\n",
    "outlier2 = data[data['person_age'] < data['person_emp_length']].index\n",
    "\n",
    "data.drop(outlier1, inplace=True)\n",
    "data.drop(outlier2, inplace=True)"
   ]
  },
  {
   "cell_type": "markdown",
   "metadata": {},
   "source": [
    "### Spliting Data"
   ]
  },
  {
   "cell_type": "code",
   "execution_count": 20,
   "metadata": {},
   "outputs": [],
   "source": [
    "y = data['loan_status'].copy()\n",
    "X = data.drop(columns='loan_status').copy()"
   ]
  },
  {
   "cell_type": "code",
   "execution_count": 21,
   "metadata": {},
   "outputs": [
    {
     "name": "stdout",
     "output_type": "stream",
     "text": [
      "Number of Train : 22686 70.0%\n",
      "Number of Test : 9723 30.0%\n"
     ]
    }
   ],
   "source": [
    "from sklearn.model_selection import train_test_split\n",
    "\n",
    "SEED = 42\n",
    "\n",
    "X_train, X_test, y_train, y_test = train_test_split(X, y, test_size=0.3, stratify=y, random_state=1234)\n",
    "\n",
    "print(\"Number of Train :\", len(y_train), f\"{round(len(y_train) / len(y) * 100, 2)}%\")\n",
    "print(\"Number of Test :\", len(y_test), f\"{round(len(y_test) / len(y) * 100, 2)}%\")"
   ]
  },
  {
   "cell_type": "code",
   "execution_count": 22,
   "metadata": {},
   "outputs": [],
   "source": [
    "def get_data_by_types(X_train, X_test):\n",
    "    X_train_num, X_train_cat = X_train[num_columns], X_train[cat_columns]\n",
    "    X_test_num, X_test_cat = X_test[num_columns], X_test[cat_columns]\n",
    "    return X_train_num, X_train_cat, X_test_num, X_test_cat"
   ]
  },
  {
   "cell_type": "code",
   "execution_count": 23,
   "metadata": {},
   "outputs": [],
   "source": [
    "X_train_num, X_train_cat, X_test_num, X_test_cat = get_data_by_types(X_train, X_test)"
   ]
  },
  {
   "cell_type": "markdown",
   "metadata": {},
   "source": [
    "#### categorical variable"
   ]
  },
  {
   "cell_type": "code",
   "execution_count": 24,
   "metadata": {},
   "outputs": [
    {
     "data": {
      "text/plain": [
       "EDUCATION            6409\n",
       "MEDICAL              6042\n",
       "VENTURE              5679\n",
       "PERSONAL             5496\n",
       "DEBTCONSOLIDATION    5189\n",
       "HOMEIMPROVEMENT      3594\n",
       "Name: loan_intent, dtype: int64"
      ]
     },
     "execution_count": 24,
     "metadata": {},
     "output_type": "execute_result"
    }
   ],
   "source": [
    "data['loan_intent'].value_counts()"
   ]
  },
  {
   "cell_type": "code",
   "execution_count": 24,
   "metadata": {},
   "outputs": [],
   "source": [
    "# Create a function to preprocess categorical variable\n",
    "\n",
    "from sklearn.preprocessing import OrdinalEncoder\n",
    "from xverse.transformer import WOE\n",
    "\n",
    "def preprocess_categorical(X_train_cat, X_test_cat, y_train):\n",
    "    ordinal = OrdinalEncoder()\n",
    "    ordinal.fit(X_train_cat['loan_grade'].values.reshape(-1,1))\n",
    "    \n",
    "    X_train_cat['loan_grade'] = ordinal.transform(X_train_cat['loan_grade'].values.reshape(-1,1))\n",
    "    X_test_cat['loan_grade'] = ordinal.transform(X_test_cat['loan_grade'].values.reshape(-1,1))\n",
    "\n",
    "    clf = WOE()\n",
    "    clf.fit(X_train_cat, y_train)\n",
    "    X_train_cat = clf.transform(X_train_cat)\n",
    "    \n",
    "    output_woe_bins_cat = clf.woe_bins                      #future transformation\n",
    "    output_mono_bins_cat = clf.mono_custom_binning          #future transformation\n",
    "    clf = WOE(woe_bins=output_woe_bins_cat, mono_custom_binning=output_mono_bins_cat) #output_bins was created earlier\n",
    "    \n",
    "    X_test_cat = clf.transform(X_test_cat)\n",
    "    \n",
    "    X_train_cat = pd.DataFrame(X_train_cat, index=X_train.index)\n",
    "    X_test_cat = pd.DataFrame(X_test_cat, index=X_test.index)\n",
    "\n",
    "    return X_train_cat, X_test_cat"
   ]
  },
  {
   "cell_type": "code",
   "execution_count": 25,
   "metadata": {},
   "outputs": [],
   "source": [
    "X_train_num, X_train_cat, X_test_num, X_test_cat = get_data_by_types(X_train, X_test)\n",
    "X_train_cat, X_test_cat = preprocess_categorical(X_train_cat, X_test_cat, y_train)"
   ]
  },
  {
   "cell_type": "markdown",
   "metadata": {},
   "source": [
    "#### Numerical Variable"
   ]
  },
  {
   "cell_type": "code",
   "execution_count": null,
   "metadata": {},
   "outputs": [],
   "source": [
    "# from sklearn.preprocessing import StandardScaler\n",
    "\n",
    "# sc = StandardScaler()\n",
    "# sc.fit(X_train.loc[:, num_columns])"
   ]
  },
  {
   "cell_type": "code",
   "execution_count": null,
   "metadata": {},
   "outputs": [],
   "source": [
    "# X_train_num = sc.transform(X_train[num_columns])\n",
    "# X_test_num = sc.transform(X_test[num_columns])"
   ]
  },
  {
   "cell_type": "code",
   "execution_count": 26,
   "metadata": {},
   "outputs": [],
   "source": [
    "# Create a function to preprocess categorical variable\n",
    "from sklearn.impute import SimpleImputer\n",
    "def preprocess_numerical(X_train_num, X_test_num, y_train):\n",
    "    X_train_num.loc[-1]=[0., 0, 0, 0, 0, 0 ,0]\n",
    "    y_train.loc[-1]=0\n",
    "\n",
    "    clf = WOE()\n",
    "    clf.fit(X_train_num, y_train)\n",
    "    \n",
    "    X_train_num = clf.transform(X_train_num)\n",
    "    \n",
    "    output_woe_bins = clf.woe_bins                      #future transformation\n",
    "    output_mono_bins = clf.mono_custom_binning          #future transformation\n",
    "    clf = WOE(woe_bins=output_woe_bins, mono_custom_binning=output_mono_bins) #output_bins was created earlier\n",
    "    X_test_num = clf.transform(X_test_num)\n",
    "    \n",
    "    X_train_num.drop(-1, inplace=True)\n",
    "    y_train.drop(-1, inplace=True)\n",
    "\n",
    "    return X_train_num, X_test_num"
   ]
  },
  {
   "cell_type": "code",
   "execution_count": 27,
   "metadata": {},
   "outputs": [],
   "source": [
    "X_train_num, X_test_num = preprocess_numerical(X_train_num, X_test_num, y_train)"
   ]
  },
  {
   "cell_type": "code",
   "execution_count": 28,
   "metadata": {},
   "outputs": [],
   "source": [
    "X_train_trans = X_train_num.join(X_train_cat)\n",
    "X_test_trans = X_test_num.join(X_test_cat)"
   ]
  },
  {
   "cell_type": "code",
   "execution_count": 29,
   "metadata": {},
   "outputs": [
    {
     "data": {
      "text/html": [
       "<div>\n",
       "<style scoped>\n",
       "    .dataframe tbody tr th:only-of-type {\n",
       "        vertical-align: middle;\n",
       "    }\n",
       "\n",
       "    .dataframe tbody tr th {\n",
       "        vertical-align: top;\n",
       "    }\n",
       "\n",
       "    .dataframe thead th {\n",
       "        text-align: right;\n",
       "    }\n",
       "</style>\n",
       "<table border=\"1\" class=\"dataframe\">\n",
       "  <thead>\n",
       "    <tr style=\"text-align: right;\">\n",
       "      <th></th>\n",
       "      <th>person_age</th>\n",
       "      <th>person_income</th>\n",
       "      <th>person_emp_length</th>\n",
       "      <th>loan_amnt</th>\n",
       "      <th>loan_int_rate</th>\n",
       "      <th>loan_percent_income</th>\n",
       "      <th>cb_person_cred_hist_length</th>\n",
       "      <th>person_home_ownership</th>\n",
       "      <th>loan_intent</th>\n",
       "      <th>loan_grade</th>\n",
       "      <th>cb_person_default_on_file</th>\n",
       "    </tr>\n",
       "  </thead>\n",
       "  <tbody>\n",
       "    <tr>\n",
       "      <th>31598</th>\n",
       "      <td>-0.074522</td>\n",
       "      <td>-0.218313</td>\n",
       "      <td>-0.138342</td>\n",
       "      <td>-0.154364</td>\n",
       "      <td>-0.316331</td>\n",
       "      <td>-0.743174</td>\n",
       "      <td>-0.052060</td>\n",
       "      <td>0.497900</td>\n",
       "      <td>-0.155702</td>\n",
       "      <td>-0.628973</td>\n",
       "      <td>-0.216648</td>\n",
       "    </tr>\n",
       "    <tr>\n",
       "      <th>19006</th>\n",
       "      <td>-0.074522</td>\n",
       "      <td>0.694848</td>\n",
       "      <td>0.293182</td>\n",
       "      <td>0.295253</td>\n",
       "      <td>-0.316331</td>\n",
       "      <td>0.885326</td>\n",
       "      <td>-0.052060</td>\n",
       "      <td>0.497900</td>\n",
       "      <td>0.246998</td>\n",
       "      <td>-0.628973</td>\n",
       "      <td>-0.216648</td>\n",
       "    </tr>\n",
       "    <tr>\n",
       "      <th>14302</th>\n",
       "      <td>-0.026946</td>\n",
       "      <td>-0.813357</td>\n",
       "      <td>0.293182</td>\n",
       "      <td>0.295253</td>\n",
       "      <td>-0.316331</td>\n",
       "      <td>-0.407493</td>\n",
       "      <td>0.063486</td>\n",
       "      <td>0.497900</td>\n",
       "      <td>0.257635</td>\n",
       "      <td>-0.628973</td>\n",
       "      <td>-0.216648</td>\n",
       "    </tr>\n",
       "    <tr>\n",
       "      <th>20311</th>\n",
       "      <td>-0.074522</td>\n",
       "      <td>0.694848</td>\n",
       "      <td>-0.291921</td>\n",
       "      <td>-0.154364</td>\n",
       "      <td>-0.316331</td>\n",
       "      <td>-0.743174</td>\n",
       "      <td>-0.026116</td>\n",
       "      <td>-0.649888</td>\n",
       "      <td>0.364197</td>\n",
       "      <td>-0.628973</td>\n",
       "      <td>-0.216648</td>\n",
       "    </tr>\n",
       "    <tr>\n",
       "      <th>15425</th>\n",
       "      <td>0.083890</td>\n",
       "      <td>-0.813357</td>\n",
       "      <td>0.293182</td>\n",
       "      <td>-0.154364</td>\n",
       "      <td>-0.948952</td>\n",
       "      <td>-0.743174</td>\n",
       "      <td>0.063486</td>\n",
       "      <td>-0.649888</td>\n",
       "      <td>-0.257891</td>\n",
       "      <td>-0.628973</td>\n",
       "      <td>-0.216648</td>\n",
       "    </tr>\n",
       "  </tbody>\n",
       "</table>\n",
       "</div>"
      ],
      "text/plain": [
       "       person_age  person_income  person_emp_length  loan_amnt  loan_int_rate  \\\n",
       "31598   -0.074522      -0.218313          -0.138342  -0.154364      -0.316331   \n",
       "19006   -0.074522       0.694848           0.293182   0.295253      -0.316331   \n",
       "14302   -0.026946      -0.813357           0.293182   0.295253      -0.316331   \n",
       "20311   -0.074522       0.694848          -0.291921  -0.154364      -0.316331   \n",
       "15425    0.083890      -0.813357           0.293182  -0.154364      -0.948952   \n",
       "\n",
       "       loan_percent_income  cb_person_cred_hist_length  person_home_ownership  \\\n",
       "31598            -0.743174                   -0.052060               0.497900   \n",
       "19006             0.885326                   -0.052060               0.497900   \n",
       "14302            -0.407493                    0.063486               0.497900   \n",
       "20311            -0.743174                   -0.026116              -0.649888   \n",
       "15425            -0.743174                    0.063486              -0.649888   \n",
       "\n",
       "       loan_intent  loan_grade  cb_person_default_on_file  \n",
       "31598    -0.155702   -0.628973                  -0.216648  \n",
       "19006     0.246998   -0.628973                  -0.216648  \n",
       "14302     0.257635   -0.628973                  -0.216648  \n",
       "20311     0.364197   -0.628973                  -0.216648  \n",
       "15425    -0.257891   -0.628973                  -0.216648  "
      ]
     },
     "execution_count": 29,
     "metadata": {},
     "output_type": "execute_result"
    }
   ],
   "source": [
    "X_test_trans.head()"
   ]
  },
  {
   "cell_type": "code",
   "execution_count": 30,
   "metadata": {},
   "outputs": [
    {
     "data": {
      "image/png": "[encoded data removed]",
      "text/plain": [
       "<Figure size 720x720 with 2 Axes>"
      ]
     },
     "metadata": {
      "needs_background": "light"
     },
     "output_type": "display_data"
    }
   ],
   "source": [
    "plot_correlation(X_train_trans)"
   ]
  },
  {
   "cell_type": "markdown",
   "metadata": {},
   "source": [
    "## Hyperparameter Tuning"
   ]
  },
  {
   "cell_type": "markdown",
   "metadata": {},
   "source": [
    "### Simple Hyperparameter Tuning - GridSearchCV"
   ]
  },
  {
   "cell_type": "code",
   "execution_count": 32,
   "metadata": {},
   "outputs": [],
   "source": [
    "from sklearn.utils.fixes import loguniform\n",
    "from sklearn.linear_model import LogisticRegression  \n",
    "from sklearn.model_selection import GridSearchCV\n",
    "\n",
    "lr = LogisticRegression(random_state=SEED)\n",
    "\n",
    "param_space = {\n",
    "    \"C\": [0.0001, 0.001, 0.01, 0.1, 1, 10, 100, 1000],\n",
    "    \"max_iter\": [1000],\n",
    "    \"random_state\": [SEED]\n",
    "}\n",
    "\n",
    "clf = GridSearchCV(lr, \n",
    "                   param_space, \n",
    "                   scoring='roc_auc', \n",
    "                   cv=4, \n",
    "                   refit=True)"
   ]
  },
  {
   "cell_type": "code",
   "execution_count": 33,
   "metadata": {},
   "outputs": [
    {
     "data": {
      "text/plain": [
       "GridSearchCV(cv=4, estimator=LogisticRegression(random_state=42),\n",
       "             param_grid={'C': [0.0001, 0.001, 0.01, 0.1, 1, 10, 100, 1000],\n",
       "                         'max_iter': [1000], 'random_state': [42]},\n",
       "             scoring='roc_auc')"
      ]
     },
     "execution_count": 33,
     "metadata": {},
     "output_type": "execute_result"
    }
   ],
   "source": [
    "clf.fit(X_train_trans, y_train)"
   ]
  },
  {
   "cell_type": "code",
   "execution_count": 34,
   "metadata": {},
   "outputs": [],
   "source": [
    "yhat_train = clf.predict_proba(X_train_trans)[:, 1]\n",
    "yhat_test = clf.predict_proba(X_test_trans)[:, 1]"
   ]
  },
  {
   "cell_type": "code",
   "execution_count": 35,
   "metadata": {},
   "outputs": [
    {
     "name": "stdout",
     "output_type": "stream",
     "text": [
      "ROC-AUC TRAIN 0.8521402184928635\n",
      "ROC-AUC TEST 0.8560266523486583\n"
     ]
    }
   ],
   "source": [
    "from sklearn.metrics import roc_curve, auc, roc_auc_score, classification_report\n",
    "\n",
    "fpr_train, tpr_train, thresholds_train =roc_curve(y_train, \n",
    "                                                  yhat_train)\n",
    "fpr_test, tpr_test, thresholds_test =roc_curve(y_test, \n",
    "                                               yhat_test)\n",
    "\n",
    "roc_auc_train = auc(fpr_train, tpr_train)\n",
    "roc_auc_test = auc(fpr_test, tpr_test)\n",
    "\n",
    "print(\"ROC-AUC TRAIN\", roc_auc_train)\n",
    "print(\"ROC-AUC TEST\", roc_auc_test)"
   ]
  },
  {
   "cell_type": "code",
   "execution_count": null,
   "metadata": {},
   "outputs": [],
   "source": [
    "import pickle \n",
    "\n",
    "\n",
    "MODELNAME = 'M-LR-1.0.0.pkl'\n",
    "PREPROCESSNAME = 'FE-SC-IMP-OHE-1.0.0.pkl'\n",
    "\n",
    "final_model = clf.best_estimator_.named_steps['model']\n",
    "final_pipe = clf.best_estimator_.named_steps['preprocess']\n",
    "\n",
    "with open(MODEL, 'wb') as f: # save model\n",
    "    pickle.dump(final_model, f)\n",
    "    \n",
    "with open(PREPROCESS, 'wb') as f: # save pipeline\n",
    "    pickle.dump(final_pipe, f)"
   ]
  },
  {
   "cell_type": "markdown",
   "metadata": {},
   "source": [
    "# Pipeline"
   ]
  },
  {
   "cell_type": "markdown",
   "metadata": {},
   "source": [
    "### Hyperparameter Tuning with Pipeline - GridSearchCV"
   ]
  },
  {
   "cell_type": "code",
   "execution_count": null,
   "metadata": {},
   "outputs": [],
   "source": [
    "# # Create a function to preprocess categorical variable\n",
    "\n",
    "# from sklearn.preprocessing import OneHotEncoder, OrdinalEncoder\n",
    "# from xverse.transformer import WOE\n",
    "\n",
    "# def preprocess_categorical(df):\n",
    "\n",
    "    \n",
    "#     ordinal = OrdinalEncoder()\n",
    "#     ordinal.fit(df['loan_grade'].values.reshape(-1,1))\n",
    "    \n",
    "#     df['loan_grade'] = ordinal.transform(df['loan_grade'].values.reshape(-1,1))\n",
    "    \n",
    "#     clf = WOE()\n",
    "#     clf.fit(df[cat_columns], y_train)\n",
    "    \n",
    "#     df[cat_columns] = clf.transform(df[cat_columns])\n",
    "    \n",
    "#     df[cat_columns] = pd.DataFrame(df[cat_columns], index=df[cat_columns].index)\n",
    "\n",
    "#     return df"
   ]
  },
  {
   "cell_type": "code",
   "execution_count": null,
   "metadata": {},
   "outputs": [],
   "source": [
    "# # Create a function to preprocess categorical variable\n",
    "# from sklearn.impute import SimpleImputer\n",
    "# def preprocess_numerical(df):\n",
    "     \n",
    "#     df.loc[-1]=[0., 0, 0, 0, 0, 0 ,0, 0, 0, 0, 0]\n",
    "#     y_train.loc[-1]=0\n",
    "\n",
    "#     clf = WOE()\n",
    "#     clf.fit(df[num_columns], y_train)\n",
    "    \n",
    "#     df[num_columns] = clf.transform(df[num_columns])\n",
    "    \n",
    "#     y_train.drop(-1, inplace=True)\n",
    "#     df.drop(-1, inplace=True)\n",
    "    \n",
    "#     return df"
   ]
  },
  {
   "cell_type": "code",
   "execution_count": null,
   "metadata": {},
   "outputs": [],
   "source": [
    "# from sklearn.compose import ColumnTransformer\n",
    "# from sklearn.pipeline import Pipeline\n",
    "# from sklearn.preprocessing import StandardScaler\n",
    "# from sklearn.impute import SimpleImputer\n",
    "# from xverse.feature_subset import SplitXY\n",
    "\n",
    "# from sklearn.preprocessing import FunctionTransformer\n",
    "# cat_transformer = FunctionTransformer(preprocess_categorical, validate=False)\n",
    "# num_transformer = FunctionTransformer(preprocess_numerical, validate=False)\n",
    "\n",
    "# # cat_pipe = Pipeline(steps=[\n",
    "# # #     ('imputer', SimpleImputer(strategy=\"constant\", fill_value=\"missing\")),\n",
    "# # #     ('ordinal', OrdinalEncoder(drop=\"first\")),\n",
    "# #     ('woe', WOE())\n",
    "# # ])\n",
    "\n",
    "# # num_pipe = Pipeline(steps=[\n",
    "# # #     ('imputer', SimpleImputer(strategy=\"mean\")),\n",
    "# # #     ('scaler', StandardScaler()),\n",
    "# #     ('woe', WOE())\n",
    "# # ])\n",
    "\n",
    "\n",
    "# # ordinal = Pipeline(steps=[\n",
    "# # #     ('imputer', SimpleImputer(strategy=\"mean\")),\n",
    "# # #     ('scaler', StandardScaler()),\n",
    "# #     ('woe', WOE())\n",
    "# # ])\n",
    "\n",
    "# # preprocess = ColumnTransformer(transformers=[\n",
    "# # #     ('split_x_y', SplitXY(['loan_status'])),\n",
    "# #     ('cat', cat_transformer),\n",
    "# #     ('num', num_transformer),\n",
    "# # ], remainder='passthrough')\n",
    "\n",
    "\n",
    "# full_pipe = Pipeline(steps=[\n",
    "#     ('preprocess_categorical', cat_transformer),\n",
    "#     ('preprocess_numerical', num_transformer),\n",
    "#     ('model', LogisticRegression(random_state=SEED, max_iter=1000)),\n",
    "    \n",
    "# ], verbose=False)"
   ]
  },
  {
   "cell_type": "code",
   "execution_count": null,
   "metadata": {},
   "outputs": [],
   "source": [
    "from xverse.transformer import WOE\n",
    "X_train.loc[-1]=[0., 0, 0, 0, 0, 0, 0, 0, 0, 0 ,0]\n",
    "y_train.loc[-1]=0\n",
    "\n",
    "X_train.loc[-2]=[np.nan, np.nan, np.nan, np.nan, np.nan, np.nan, np.nan, np.nan, np.nan, np.nan, np.nan]\n",
    "y_train.loc[-2]= 0\n",
    "\n",
    "clf = WOE()\n",
    "clf.fit(X_train, y_train)\n",
    "X_train = clf.transform(X_train)\n",
    "\n",
    "output_woe_bins = clf.woe_bins\n",
    "output_woe_bins"
   ]
  },
  {
   "cell_type": "code",
   "execution_count": null,
   "metadata": {},
   "outputs": [],
   "source": [
    "from sklearn.model_selection import train_test_split\n",
    "\n",
    "SEED = 42\n",
    "\n",
    "X_train, X_test, y_train, y_test = train_test_split(X, y, test_size=0.3, stratify=y, random_state=1234)\n",
    "\n",
    "print(\"Number of Train :\", len(y_train), f\"{round(len(y_train) / len(y) * 100, 2)}%\")\n",
    "print(\"Number of Test :\", len(y_test), f\"{round(len(y_test) / len(y) * 100, 2)}%\")"
   ]
  },
  {
   "cell_type": "code",
   "execution_count": null,
   "metadata": {},
   "outputs": [],
   "source": [
    "from sklearn.compose import ColumnTransformer\n",
    "from sklearn.pipeline import Pipeline\n",
    "from sklearn.linear_model import LogisticRegression  \n",
    "from sklearn.model_selection import GridSearchCV\n",
    "\n",
    "preprocess = Pipeline(steps=[\n",
    "#     ('imputer', SimpleImputer(strategy=\"constant\", fill_value=np.nan)),\n",
    "    ('woe', WOE(woe_bins=output_woe_bins)),\n",
    "])\n",
    "\n",
    "full_pipe = Pipeline(steps=[\n",
    "    ('preprocess', preprocess),\n",
    "    ('model', LogisticRegression(random_state=SEED, max_iter=1000)),\n",
    "    \n",
    "], verbose=False)"
   ]
  },
  {
   "cell_type": "code",
   "execution_count": null,
   "metadata": {},
   "outputs": [],
   "source": [
    "param_space = {\n",
    "    \"model__C\": [0.0001, 0.001, 0.01, 0.1, 2, 1, 3, 4, 5, 10, 100, 1000],\n",
    "    \"model__max_iter\": [1000],\n",
    "    \"model__random_state\": [SEED]\n",
    "}\n",
    "\n",
    "clf = GridSearchCV(full_pipe, \n",
    "                   param_space, \n",
    "                   scoring='roc_auc', \n",
    "                   cv=5, \n",
    "                   refit=True)"
   ]
  },
  {
   "cell_type": "code",
   "execution_count": null,
   "metadata": {},
   "outputs": [],
   "source": [
    "clf.fit(X_train, y_train)"
   ]
  },
  {
   "cell_type": "code",
   "execution_count": null,
   "metadata": {},
   "outputs": [],
   "source": [
    "clf.best_params_"
   ]
  },
  {
   "cell_type": "code",
   "execution_count": null,
   "metadata": {},
   "outputs": [],
   "source": [
    "clf.best_estimator_.named_steps['model']"
   ]
  },
  {
   "cell_type": "markdown",
   "metadata": {},
   "source": [
    "# Without WOE"
   ]
  },
  {
   "cell_type": "code",
   "execution_count": 34,
   "metadata": {},
   "outputs": [],
   "source": [
    "from sklearn.compose import ColumnTransformer\n",
    "from sklearn.pipeline import Pipeline\n",
    "from sklearn.preprocessing import OneHotEncoder, StandardScaler\n",
    "from sklearn.linear_model import LogisticRegression \n",
    "from sklearn.model_selection import GridSearchCV\n",
    "\n",
    "\n",
    "cat_pipe = Pipeline(steps=[\n",
    "    ('imputer', SimpleImputer(strategy=\"constant\", fill_value=\"missing\")),\n",
    "    ('ohe', OneHotEncoder(drop=\"first\"))\n",
    "])\n",
    "\n",
    "num_pipe = Pipeline(steps=[\n",
    "    ('scaler', StandardScaler()),\n",
    "    ('imputer', SimpleImputer(strategy=\"constant\", fill_value=0)),\n",
    "])\n",
    "\n",
    "preprocess = ColumnTransformer(transformers=[\n",
    "    ('cat', cat_pipe, cat_columns),\n",
    "    ('num', num_pipe, num_columns)\n",
    "], remainder='passthrough')\n",
    "\n",
    "\n",
    "full_pipe = Pipeline(steps=[\n",
    "    ('preprocess', preprocess),\n",
    "    ('model', LogisticRegression(random_state=1234, max_iter=1000))\n",
    "])"
   ]
  },
  {
   "cell_type": "code",
   "execution_count": 35,
   "metadata": {},
   "outputs": [],
   "source": [
    "param_space = {\n",
    "    \"model__C\": [0.0001, 0.001, 0.01, 0.1, 2, 1, 3, 4, 5, 10, 100, 1000],\n",
    "    \"model__max_iter\": [1000],\n",
    "    \"model__random_state\": [1234]\n",
    "}\n",
    "\n",
    "clf = GridSearchCV(full_pipe, \n",
    "                   param_space, \n",
    "                   scoring='roc_auc', \n",
    "                   cv=5, \n",
    "                   refit=True)"
   ]
  },
  {
   "cell_type": "code",
   "execution_count": 36,
   "metadata": {},
   "outputs": [
    {
     "data": {
      "text/plain": [
       "GridSearchCV(cv=5,\n",
       "             estimator=Pipeline(steps=[('preprocess',\n",
       "                                        ColumnTransformer(remainder='passthrough',\n",
       "                                                          transformers=[('cat',\n",
       "                                                                         Pipeline(steps=[('imputer',\n",
       "                                                                                          SimpleImputer(fill_value='missing',\n",
       "                                                                                                        strategy='constant')),\n",
       "                                                                                         ('ohe',\n",
       "                                                                                          OneHotEncoder(drop='first'))]),\n",
       "                                                                         ['person_home_ownership',\n",
       "                                                                          'loan_intent',\n",
       "                                                                          'loan_grade',\n",
       "                                                                          'cb_person_default_on_file']),\n",
       "                                                                        ('num',\n",
       "                                                                         Pipeline(steps=[('...\n",
       "                                                                                                        strategy='constant'))]),\n",
       "                                                                         ['person_age',\n",
       "                                                                          'person_income',\n",
       "                                                                          'person_emp_length',\n",
       "                                                                          'loan_amnt',\n",
       "                                                                          'loan_int_rate',\n",
       "                                                                          'loan_percent_income',\n",
       "                                                                          'cb_person_cred_hist_length'])])),\n",
       "                                       ('model',\n",
       "                                        LogisticRegression(max_iter=1000,\n",
       "                                                           random_state=1234))]),\n",
       "             param_grid={'model__C': [0.0001, 0.001, 0.01, 0.1, 2, 1, 3, 4, 5,\n",
       "                                      10, 100, 1000],\n",
       "                         'model__max_iter': [1000],\n",
       "                         'model__random_state': [1234]},\n",
       "             scoring='roc_auc')"
      ]
     },
     "execution_count": 36,
     "metadata": {},
     "output_type": "execute_result"
    }
   ],
   "source": [
    "clf.fit(X_train, y_train)"
   ]
  },
  {
   "cell_type": "code",
   "execution_count": 37,
   "metadata": {},
   "outputs": [],
   "source": [
    "yhat_train = clf.predict_proba(X_train)[:, 1]\n",
    "yhat_test = clf.predict_proba(X_test)[:, 1]"
   ]
  },
  {
   "cell_type": "code",
   "execution_count": 38,
   "metadata": {},
   "outputs": [
    {
     "name": "stdout",
     "output_type": "stream",
     "text": [
      "ROC-AUC TRAIN 0.8695007354927009\n",
      "ROC-AUC TEST 0.8710780521746281\n"
     ]
    }
   ],
   "source": [
    "from sklearn.metrics import roc_curve, auc, roc_auc_score, classification_report\n",
    "\n",
    "fpr_train, tpr_train, thresholds_train =roc_curve(y_train, \n",
    "                                                  yhat_train)\n",
    "fpr_test, tpr_test, thresholds_test =roc_curve(y_test, \n",
    "                                               yhat_test)\n",
    "\n",
    "roc_auc_train = auc(fpr_train, tpr_train)\n",
    "roc_auc_test = auc(fpr_test, tpr_test)\n",
    "\n",
    "print(\"ROC-AUC TRAIN\", roc_auc_train)\n",
    "print(\"ROC-AUC TEST\", roc_auc_test)"
   ]
  },
  {
   "cell_type": "code",
   "execution_count": 39,
   "metadata": {},
   "outputs": [],
   "source": [
    "import pickle \n",
    "\n",
    "\n",
    "MODEL = 'model.pkl'\n",
    "PREPROCESS = 'preprocess.pkl'\n",
    "\n",
    "final_model = clf.best_estimator_.named_steps['model']\n",
    "final_pipe = clf.best_estimator_.named_steps['preprocess']\n",
    "\n",
    "with open(MODEL, 'wb') as f: # save model\n",
    "    pickle.dump(final_model, f)\n",
    "    \n",
    "with open(PREPROCESS, 'wb') as f: # save pipeline\n",
    "    pickle.dump(final_pipe, f)"
   ]
  },
  {
   "cell_type": "code",
   "execution_count": 40,
   "metadata": {},
   "outputs": [],
   "source": [
    "# https://stackoverflow.com/questions/28719067/roc-curve-and-cut-off-point-python\n",
    "def get_optimal_cutoff(tpr, fpr, thresholds):\n",
    "    i = np.arange(len(tpr)) # index for df\n",
    "    roc = pd.DataFrame({\n",
    "        'fpr' : pd.Series(fpr, index=i),\n",
    "        'tpr' : pd.Series(tpr, index = i), \n",
    "        '1-fpr' : pd.Series(1-fpr, index = i), \n",
    "        'tf' : pd.Series(tpr - (1-fpr), index = i), \n",
    "        'thresholds' : pd.Series(thresholds, index = i)})\n",
    "    \n",
    "    print(roc.iloc[[(roc.tf-0).abs().argmin()]])\n",
    "\n",
    "    # Plot tpr vs 1-fpr\n",
    "    fig, ax = plt.subplots()\n",
    "    _ = plt.plot(roc['tpr'])\n",
    "    _ = plt.plot(roc['1-fpr'], color = 'red')\n",
    "    _ = plt.xlabel('1-False Positive Rate')\n",
    "    _ = plt.ylabel('True Positive Rate')\n",
    "    _ = plt.title('Receiver operating characteristic')\n",
    "    _ = ax.set_xticklabels([])\n",
    "    \n",
    "    \n",
    "def plot_roc_auc(tpr, fpr, labels):\n",
    "    \n",
    "    if (isinstance(tpr, (list, np.array)) and isinstance(fpr, (list, np.array))):\n",
    "        \n",
    "        nlist = len(tpr)\n",
    "        \n",
    "        if all(len(val) == nlist for val in [tpr, fpr, labels]):\n",
    "            pass\n",
    "        else:\n",
    "            raise ValueError('length of parameter should be the same')\n",
    "               \n",
    "        fig, ax = plt.subplots(figsize=(8, 6.5))\n",
    "        _ = sns.despine(ax=ax)\n",
    "        _ = ax.plot([0, 1], [0, 1], color='navy', linestyle='--')\n",
    "        _ = ax.set_xlim([0.0, 1.0])\n",
    "        _ = ax.set_ylim([0.0, 1.05])\n",
    "        _ = ax.set_xlabel('False Positive Rate')\n",
    "        _ = ax.set_ylabel('True Positive Rate')\n",
    "        _ = ax.set_title('Receiver operating characteristic example')\n",
    "        \n",
    "        for i in range(nlist):\n",
    "        \n",
    "            roc_auc = auc(fpr[i], tpr[i])\n",
    "            _ = ax.plot(\n",
    "                fpr[i], \n",
    "                tpr[i], \n",
    "                label=f'ROC curve {labels[i]} (area = {roc_auc: 0.2f}'\n",
    "            )\n",
    "        \n",
    "        _ = fig.legend(loc=\"right\")\n",
    "        \n",
    "    else:\n",
    "        roc_auc = auc(fpr, tpr)\n",
    "        \n",
    "        fig, ax = plt.subplots(figsize=(8, 6.5))\n",
    "        _ = sns.despine(ax=ax)\n",
    "        _ = ax.plot([0, 1], [0, 1], color='navy', linestyle='--')\n",
    "        _ = ax.set_xlim([0.0, 1.0])\n",
    "        _ = ax.set_ylim([0.0, 1.05])\n",
    "        _ = ax.set_xlabel('False Positive Rate')\n",
    "        _ = ax.set_ylabel('True Positive Rate')\n",
    "        _ = ax.set_title('Receiver operating characteristic example')\n",
    "        _ = ax.plot(\n",
    "            fpr, \n",
    "            tpr, \n",
    "            label=f'ROC curve {labels} (area = {roc_auc: 0.2f}'\n",
    "        )\n",
    "        \n",
    "    _ = fig.legend(loc=\"right\")"
   ]
  },
  {
   "cell_type": "code",
   "execution_count": 41,
   "metadata": {},
   "outputs": [
    {
     "name": "stdout",
     "output_type": "stream",
     "text": [
      "           fpr       tpr     1-fpr        tf  thresholds\n",
      "1171  0.206002  0.793979  0.793998 -0.000018    0.195074\n"
     ]
    },
    {
     "data": {
      "image/png": "[encoded data removed]",
      "text/plain": [
       "<Figure size 432x288 with 1 Axes>"
      ]
     },
     "metadata": {
      "needs_background": "light"
     },
     "output_type": "display_data"
    }
   ],
   "source": [
    "tpr = tpr_test\n",
    "fpr = fpr_test\n",
    "\n",
    "thresholds = thresholds_test\n",
    "get_optimal_cutoff(tpr, fpr, thresholds)"
   ]
  },
  {
   "cell_type": "code",
   "execution_count": 42,
   "metadata": {},
   "outputs": [
    {
     "name": "stdout",
     "output_type": "stream",
     "text": [
      "              precision    recall  f1-score   support\n",
      "\n",
      "           0       0.93      0.79      0.86      7597\n",
      "           1       0.52      0.79      0.63      2126\n",
      "\n",
      "    accuracy                           0.79      9723\n",
      "   macro avg       0.73      0.79      0.74      9723\n",
      "weighted avg       0.84      0.79      0.81      9723\n",
      "\n"
     ]
    }
   ],
   "source": [
    "threshold = 0.195303\n",
    "\n",
    "y_pred_train = np.where(yhat_train > threshold, 1, 0)\n",
    "y_pred_test = np.where(yhat_test> threshold, 1, 0)\n",
    "\n",
    "print(classification_report(y_test, \n",
    "                            y_pred_test))"
   ]
  },
  {
   "cell_type": "code",
   "execution_count": 43,
   "metadata": {},
   "outputs": [
    {
     "name": "stdout",
     "output_type": "stream",
     "text": [
      "              precision    recall  f1-score   support\n",
      "\n",
      "           0       0.92      0.89      0.90      7597\n",
      "           1       0.65      0.71      0.68      2126\n",
      "\n",
      "    accuracy                           0.85      9723\n",
      "   macro avg       0.78      0.80      0.79      9723\n",
      "weighted avg       0.86      0.85      0.85      9723\n",
      "\n"
     ]
    }
   ],
   "source": [
    "threshold = 0.313929\n",
    "\n",
    "y_pred_train = np.where(yhat_train > threshold, 1, 0)\n",
    "y_pred_test = np.where(yhat_test> threshold, 1, 0)\n",
    "\n",
    "print(classification_report(y_test, \n",
    "                            y_pred_test))"
   ]
  },
  {
   "cell_type": "code",
   "execution_count": 44,
   "metadata": {},
   "outputs": [],
   "source": [
    "X_train.loc[:, 'loan_status'] = y_train\n",
    "X_train.loc[:, 'score_proba'] = yhat_train\n",
    "X_test.loc[:, 'loan_status'] = y_test\n",
    "X_test.loc[:, 'score_proba'] = yhat_test"
   ]
  },
  {
   "cell_type": "code",
   "execution_count": 45,
   "metadata": {},
   "outputs": [
    {
     "data": {
      "text/html": [
       "<div>\n",
       "<style scoped>\n",
       "    .dataframe tbody tr th:only-of-type {\n",
       "        vertical-align: middle;\n",
       "    }\n",
       "\n",
       "    .dataframe tbody tr th {\n",
       "        vertical-align: top;\n",
       "    }\n",
       "\n",
       "    .dataframe thead th {\n",
       "        text-align: right;\n",
       "    }\n",
       "</style>\n",
       "<table border=\"1\" class=\"dataframe\">\n",
       "  <thead>\n",
       "    <tr style=\"text-align: right;\">\n",
       "      <th></th>\n",
       "      <th>person_age</th>\n",
       "      <th>person_income</th>\n",
       "      <th>person_home_ownership</th>\n",
       "      <th>person_emp_length</th>\n",
       "      <th>loan_intent</th>\n",
       "      <th>loan_grade</th>\n",
       "      <th>loan_amnt</th>\n",
       "      <th>loan_int_rate</th>\n",
       "      <th>loan_percent_income</th>\n",
       "      <th>cb_person_default_on_file</th>\n",
       "      <th>cb_person_cred_hist_length</th>\n",
       "      <th>loan_status</th>\n",
       "      <th>score_proba</th>\n",
       "    </tr>\n",
       "  </thead>\n",
       "  <tbody>\n",
       "    <tr>\n",
       "      <th>31598</th>\n",
       "      <td>40</td>\n",
       "      <td>50000</td>\n",
       "      <td>RENT</td>\n",
       "      <td>3.0</td>\n",
       "      <td>PERSONAL</td>\n",
       "      <td>B</td>\n",
       "      <td>2000</td>\n",
       "      <td>11.49</td>\n",
       "      <td>0.04</td>\n",
       "      <td>N</td>\n",
       "      <td>17</td>\n",
       "      <td>0</td>\n",
       "      <td>0.054305</td>\n",
       "    </tr>\n",
       "    <tr>\n",
       "      <th>19006</th>\n",
       "      <td>34</td>\n",
       "      <td>30000</td>\n",
       "      <td>RENT</td>\n",
       "      <td>2.0</td>\n",
       "      <td>HOMEIMPROVEMENT</td>\n",
       "      <td>B</td>\n",
       "      <td>14975</td>\n",
       "      <td>12.53</td>\n",
       "      <td>0.50</td>\n",
       "      <td>N</td>\n",
       "      <td>10</td>\n",
       "      <td>1</td>\n",
       "      <td>0.940409</td>\n",
       "    </tr>\n",
       "    <tr>\n",
       "      <th>14302</th>\n",
       "      <td>25</td>\n",
       "      <td>100000</td>\n",
       "      <td>RENT</td>\n",
       "      <td>1.0</td>\n",
       "      <td>MEDICAL</td>\n",
       "      <td>B</td>\n",
       "      <td>14400</td>\n",
       "      <td>11.71</td>\n",
       "      <td>0.14</td>\n",
       "      <td>N</td>\n",
       "      <td>3</td>\n",
       "      <td>0</td>\n",
       "      <td>0.101679</td>\n",
       "    </tr>\n",
       "    <tr>\n",
       "      <th>20311</th>\n",
       "      <td>30</td>\n",
       "      <td>40000</td>\n",
       "      <td>MORTGAGE</td>\n",
       "      <td>9.0</td>\n",
       "      <td>DEBTCONSOLIDATION</td>\n",
       "      <td>B</td>\n",
       "      <td>3000</td>\n",
       "      <td>11.71</td>\n",
       "      <td>0.07</td>\n",
       "      <td>N</td>\n",
       "      <td>7</td>\n",
       "      <td>0</td>\n",
       "      <td>0.063527</td>\n",
       "    </tr>\n",
       "    <tr>\n",
       "      <th>15425</th>\n",
       "      <td>24</td>\n",
       "      <td>135000</td>\n",
       "      <td>MORTGAGE</td>\n",
       "      <td>0.0</td>\n",
       "      <td>EDUCATION</td>\n",
       "      <td>A</td>\n",
       "      <td>6000</td>\n",
       "      <td>6.92</td>\n",
       "      <td>0.04</td>\n",
       "      <td>N</td>\n",
       "      <td>2</td>\n",
       "      <td>0</td>\n",
       "      <td>0.010676</td>\n",
       "    </tr>\n",
       "  </tbody>\n",
       "</table>\n",
       "</div>"
      ],
      "text/plain": [
       "       person_age  person_income person_home_ownership  person_emp_length  \\\n",
       "31598          40          50000                  RENT                3.0   \n",
       "19006          34          30000                  RENT                2.0   \n",
       "14302          25         100000                  RENT                1.0   \n",
       "20311          30          40000              MORTGAGE                9.0   \n",
       "15425          24         135000              MORTGAGE                0.0   \n",
       "\n",
       "             loan_intent loan_grade  loan_amnt  loan_int_rate  \\\n",
       "31598           PERSONAL          B       2000          11.49   \n",
       "19006    HOMEIMPROVEMENT          B      14975          12.53   \n",
       "14302            MEDICAL          B      14400          11.71   \n",
       "20311  DEBTCONSOLIDATION          B       3000          11.71   \n",
       "15425          EDUCATION          A       6000           6.92   \n",
       "\n",
       "       loan_percent_income cb_person_default_on_file  \\\n",
       "31598                 0.04                         N   \n",
       "19006                 0.50                         N   \n",
       "14302                 0.14                         N   \n",
       "20311                 0.07                         N   \n",
       "15425                 0.04                         N   \n",
       "\n",
       "       cb_person_cred_hist_length  loan_status  score_proba  \n",
       "31598                          17            0     0.054305  \n",
       "19006                          10            1     0.940409  \n",
       "14302                           3            0     0.101679  \n",
       "20311                           7            0     0.063527  \n",
       "15425                           2            0     0.010676  "
      ]
     },
     "execution_count": 45,
     "metadata": {},
     "output_type": "execute_result"
    }
   ],
   "source": [
    "X_test.head()"
   ]
  },
  {
   "cell_type": "markdown",
   "metadata": {},
   "source": [
    "## Save Your Model"
   ]
  },
  {
   "cell_type": "code",
   "execution_count": 46,
   "metadata": {},
   "outputs": [],
   "source": [
    "import pickle \n",
    "\n",
    "\n",
    "MODEL = 'model.pkl'\n",
    "PREPROCESS = 'preprocess.pkl'\n",
    "\n",
    "final_model = clf.best_estimator_.named_steps['model']\n",
    "final_pipe = clf.best_estimator_.named_steps['preprocess']\n",
    "\n",
    "with open(MODEL, 'wb') as f: # save model\n",
    "    pickle.dump(final_model, f)\n",
    "    \n",
    "with open(PREPROCESS, 'wb') as f: # save pipeline\n",
    "    pickle.dump(final_pipe, f)"
   ]
  },
  {
   "cell_type": "code",
   "execution_count": null,
   "metadata": {},
   "outputs": [],
   "source": [
    "X_train.to_csv('train.csv')\n",
    "X_test.to_csv('test.csv')"
   ]
  },
  {
   "cell_type": "code",
   "execution_count": null,
   "metadata": {},
   "outputs": [],
   "source": [
    "pd.DataFrame(clf.cv_results_)"
   ]
  },
  {
   "cell_type": "markdown",
   "metadata": {},
   "source": [
    "## Full implementation (preproecss + feature selection + algorithm selection)"
   ]
  },
  {
   "cell_type": "code",
   "execution_count": null,
   "metadata": {},
   "outputs": [],
   "source": [
    "from sklearn.pipeline import Pipeline\n",
    "from sklearn.neighbors import KNeighborsClassifier\n",
    "from sklearn.linear_model import LogisticRegression\n",
    "from sklearn.ensemble import RandomForestClassifier\n",
    "from xgboost import XGBClassifier\n",
    "\n",
    "from sklearn.preprocessing import StandardScaler\n",
    "from sklearn.preprocessing import OneHotEncoder\n",
    "from sklearn.model_selection import GridSearchCV\n",
    "from sklearn.feature_selection import RFE\n",
    "from sklearn.feature_selection import SelectKBest, mutual_info_classif"
   ]
  },
  {
   "cell_type": "code",
   "execution_count": null,
   "metadata": {},
   "outputs": [],
   "source": [
    "sc = StandardScaler()\n",
    "lr = LogisticRegression(random_state=SEED)\n",
    "rf = RandomForestClassifier(n_estimators=10, random_state=SEED)\n",
    "rfe = RFE(lr)\n",
    "\n",
    "pipe = Pipeline([('scaler', StandardScaler()),\n",
    "                 ('encoder', OneHotEncoder()),\n",
    "                 ('imputer', SimpleImputer(strategy=\"constant\", fill_value=0)),\n",
    "                 ('selector', rfe),\n",
    "                 ('classifier', LogisticRegression(random_state=True))])"
   ]
  },
  {
   "cell_type": "code",
   "execution_count": null,
   "metadata": {},
   "outputs": [],
   "source": [
    "search_space = [\n",
    "                {'selector': [RFE(estimator=lr)],\n",
    "                 'selector__n_features_to_select': [6,  8],\n",
    "                 'classifier': [LogisticRegression(solver='liblinear', random_state=SEED)],\n",
    "                 'classifier__C': [0.001, 0.1, 10, 1000]},\n",
    "                {'selector': [RFE(estimator=rf)],\n",
    "                 'selector__n_features_to_select': [6, 8],\n",
    "                 'classifier': [RandomForestClassifier(random_state=SEED)],\n",
    "                 'classifier__n_estimators': [5, 10, 15],\n",
    "                 'classifier__max_depth': [2, 3, 4]},\n",
    "                {'selector': [RFE(estimator=rf)],\n",
    "                 'selector__n_features_to_select': [6, 8],\n",
    "                 'classifier': [XGBClassifier(random_state=SEED)],\n",
    "                 'classifier__n_estimators': [5, 10, 15],\n",
    "                 'classifier__max_depth': [2, 4, 6]}\n",
    "]"
   ]
  },
  {
   "cell_type": "code",
   "execution_count": null,
   "metadata": {},
   "outputs": [],
   "source": [
    "clf = GridSearchCV(pipe, search_space, cv=5, scoring='roc_auc', verbose=0, return_train_score=True)\n",
    "clf.fit(X_train, y_train)"
   ]
  },
  {
   "cell_type": "code",
   "execution_count": null,
   "metadata": {},
   "outputs": [],
   "source": [
    "clf.best_params_"
   ]
  },
  {
   "cell_type": "code",
   "execution_count": null,
   "metadata": {},
   "outputs": [],
   "source": [
    "clf.best_score_"
   ]
  },
  {
   "cell_type": "code",
   "execution_count": null,
   "metadata": {},
   "outputs": [],
   "source": [
    "yhat_train = clf.predict_proba(X_train)[:, 1]\n",
    "yhat_test = clf.predict_proba(X_test)[:, 1]\n",
    "\n",
    "print(\"ROC-AUC Score Train:\", roc_auc_score(y_train, yhat_train))\n",
    "print(\"ROC-AUC Score Test:\", roc_auc_score(y_test, yhat_test))"
   ]
  },
  {
   "cell_type": "code",
   "execution_count": null,
   "metadata": {},
   "outputs": [],
   "source": [
    "log_result = pd.DataFrame(clf.cv_results_)"
   ]
  },
  {
   "cell_type": "code",
   "execution_count": null,
   "metadata": {},
   "outputs": [],
   "source": [
    "pd.options.display.max_rows = None\n",
    "pd.options.display.max_columns = None"
   ]
  },
  {
   "cell_type": "code",
   "execution_count": null,
   "metadata": {
    "scrolled": true
   },
   "outputs": [],
   "source": [
    "# log_result.to_csv('log-model-development.csv')\n",
    "log_result"
   ]
  },
  {
   "cell_type": "code",
   "execution_count": null,
   "metadata": {},
   "outputs": [],
   "source": []
  }
 ],
 "metadata": {
  "kernelspec": {
   "display_name": "Python 3",
   "language": "python",
   "name": "python3"
  },
  "language_info": {
   "codemirror_mode": {
    "name": "ipython",
    "version": 3
   },
   "file_extension": ".py",
   "mimetype": "text/x-python",
   "name": "python",
   "nbconvert_exporter": "python",
   "pygments_lexer": "ipython3",
   "version": "3.7.10"
  }
 },
 "nbformat": 4,
 "nbformat_minor": 2
}
